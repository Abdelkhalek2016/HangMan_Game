{
 "cells": [
  {
   "cell_type": "code",
   "execution_count": 1,
   "id": "d406caed",
   "metadata": {},
   "outputs": [],
   "source": [
    "import random"
   ]
  },
  {
   "cell_type": "code",
   "execution_count": 3,
   "id": "6a132881",
   "metadata": {},
   "outputs": [
    {
     "name": "stdout",
     "output_type": "stream",
     "text": [
      "raspberry Please Suggest Any Charcter\n",
      "_ _ _ _ _ _ _ _ _\n",
      "your residual number of trials is: 11\n",
      "r _ _ _ _ _ r r _\n",
      "your residual number of trials is: 10\n",
      "r a _ _ _ _ r r _\n",
      "your residual number of trials is: 9\n",
      "r a s _ _ _ r r _\n",
      "your residual number of trials is: 8\n",
      "r a s _ b _ r r _\n",
      "your residual number of trials is: 7\n",
      "r a s _ b e r r _\n",
      "your residual number of trials is: 6\n",
      "r a s _ b e r r y\n",
      "your residual number of trials is: 5\n",
      "r a s _ b e r r y\n",
      "your residual number of trials is: 4\n",
      "r a s _ b e r r y\n",
      "your residual number of trials is: 3\n",
      "r a s _ b e r r y\n",
      "Sorry your choice character not into secret fruit, try again\n",
      "your residual number of trials is: 2\n",
      "r a s _ b e r r y\n",
      "Sorry your choice character not into secret fruit, try again\n",
      "your residual number of trials is: 1\n",
      "r a s _ b e r r y\n",
      "Game Over\n"
     ]
    }
   ],
   "source": [
    "# list of secret fruit names\n",
    "secretlst=['mango','apple','mulberry','guava', 'papaya', 'mandarin', 'satsuma', 'raspberry', 'watermelon' ,'plum']\n",
    "number_of_chance=0\n",
    "choice_char=''\n",
    "randomfruit=random.choice(secretlst)\n",
    "number_of_chance=len(randomfruit)+2\n",
    "\n",
    "pattern=['_' for i in range(len(randomfruit))]\n",
    "print(randomfruit, 'please suggest any charcter'.title())\n",
    "print(' '.join(pattern))\n",
    "\n",
    "#need input from user by any characters\n",
    "for i in range(number_of_chance):\n",
    "    #request input character from user\n",
    "    choice_char=input('please input any suggested character'.title())\n",
    "\n",
    "    #will be looping on characters into fruit and if equal input character will be changed into pattern of its index\n",
    "    #then will be print all pattern after changed it by characters\n",
    "    if choice_char in randomfruit:\n",
    "        for k in range(len(randomfruit)):\n",
    "            if randomfruit[k]==choice_char:\n",
    "                pattern[k]=choice_char\n",
    "        if '_' in pattern:\n",
    "            print('your residual number of trials is:',number_of_chance-i)\n",
    "            print(' '.join(pattern))\n",
    "        else:\n",
    "            print('congratulates, you are win')\n",
    "            print(' '.join(pattern))\n",
    "            break        \n",
    "    else:\n",
    "        print('Sorry your choice character not into secret fruit, try again')\n",
    "        print('your residual number of trials is:',number_of_chance-i)\n",
    "        print(' '.join(pattern))\n",
    "if '_' in pattern:\n",
    "    print('game over'.title())\n",
    "                    \n",
    "    \n",
    "\n",
    "\n",
    "\n"
   ]
  },
  {
   "cell_type": "code",
   "execution_count": 5,
   "id": "d4f46856",
   "metadata": {},
   "outputs": [
    {
     "name": "stdout",
     "output_type": "stream",
     "text": [
      "Counting up: 9\r"
     ]
    }
   ],
   "source": [
    "import time\n",
    "\n",
    "for i in range(10):\n",
    "    print(f\"Counting up: {i}\", end='\\r',flush=True)\n",
    "    time.sleep(1)"
   ]
  }
 ],
 "metadata": {
  "kernelspec": {
   "display_name": "DATASCIENCE",
   "language": "python",
   "name": "python3"
  },
  "language_info": {
   "codemirror_mode": {
    "name": "ipython",
    "version": 3
   },
   "file_extension": ".py",
   "mimetype": "text/x-python",
   "name": "python",
   "nbconvert_exporter": "python",
   "pygments_lexer": "ipython3",
   "version": "3.9.16"
  },
  "vscode": {
   "interpreter": {
    "hash": "ae8a79677a5d6b3037e1e1cee72b87831aa8994e8ed84ed9662b31584e879edd"
   }
  }
 },
 "nbformat": 4,
 "nbformat_minor": 5
}
